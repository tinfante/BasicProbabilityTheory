{
 "cells": [
  {
   "cell_type": "code",
   "execution_count": 1,
   "metadata": {},
   "outputs": [
    {
     "name": "stdout",
     "output_type": "stream",
     "text": [
      "['H', 'T']\n",
      "['HHH', 'HHT', 'HTH', 'HTT', 'THH', 'THT', 'TTH', 'TTT']\n"
     ]
    }
   ],
   "source": [
    "# Example 2.2.1.\n",
    "# Imagine I flip a coin, with two possible outcomes: heads (H) or tails (T).\n",
    "# What is the sample space for this experiment? What about for three flips in a row?\n",
    "import itertools\n",
    "\n",
    "\n",
    "def make_sample_space(outcomes, flips):\n",
    "    return itertools.product(outcomes, repeat=flips)\n",
    "\n",
    "outcomes = (\"H\", \"T\")\n",
    "print([\"\".join(x) for x in make_sample_space(outcomes, 1)])\n",
    "print([\"\".join(x) for x in make_sample_space(outcomes, 3)])"
   ]
  },
  {
   "cell_type": "code",
   "execution_count": 2,
   "metadata": {},
   "outputs": [
    {
     "name": "stdout",
     "output_type": "stream",
     "text": [
      "['HHT', 'HTH', 'THH']\n",
      "3\n"
     ]
    }
   ],
   "source": [
    "# Example 2.2.2.\n",
    "# For the experiment where I flip a coin three times in a row, consider the\n",
    "# event that I get exactly one T. Which outcomes are in this event?\n",
    "\n",
    "outcomes_with_one_tail = [x for x in make_sample_space(outcomes, 3) if x.count('T') == 1]\n",
    "print([\"\".join(x) for x in outcomes_with_one_tail])\n",
    "print(len(list(outcomes_with_one_tail)))"
   ]
  },
  {
   "cell_type": "code",
   "execution_count": 3,
   "metadata": {},
   "outputs": [
    {
     "name": "stdout",
     "output_type": "stream",
     "text": [
      "10000\n"
     ]
    }
   ],
   "source": [
    "# Example 2.2.3.\n",
    "# Suppose I have two bowls, each containing 100 balls numbered 1 through\n",
    "# 100. I pick a ball at random from each bowl and look at the numbers on them.\n",
    "# How many elements are in the sample space for this experiment?\n",
    "\n",
    "outcomes = list(range(1,101))\n",
    "print(len(list(make_sample_space(outcomes, 2))))\n",
    "# or len(outcomes) ** number_of_experiments\n",
    "# len(outcomes) ** 2"
   ]
  },
  {
   "cell_type": "code",
   "execution_count": 4,
   "metadata": {},
   "outputs": [],
   "source": [
    "# Example 2.2.4.\n",
    "# Which set of outcomes defines the event that the two balls add up to 200?\n",
    "\n",
    "# only (100, 100)"
   ]
  },
  {
   "cell_type": "code",
   "execution_count": 5,
   "metadata": {},
   "outputs": [],
   "source": [
    "# Example 2.2.5.\n",
    "# Let E be the event that the two balls add up to 201. Which outcomes are\n",
    "# elements of E?\n",
    "\n",
    "# None, empty list."
   ]
  },
  {
   "cell_type": "code",
   "execution_count": 6,
   "metadata": {},
   "outputs": [
    {
     "name": "stdout",
     "output_type": "stream",
     "text": [
      "EVENTS WITH ONE TAIL: ['HHT', 'HTH', 'THH']\n",
      "SAMPLE SPACE: ['HHH', 'HHT', 'HTH', 'HTT', 'THH', 'THT', 'TTH', 'TTT']\n",
      "PROBABILITY ONE TAIL: 0.375\n"
     ]
    }
   ],
   "source": [
    "# Example 2.3.1.\n",
    "# Imagine I flip a fair coin, with two possible outcomes: heads (H) or\n",
    "# tails (T). What is the probability that I get exactly one T if I\n",
    "# flip the coin once? What if I flip it three times?\n",
    "\n",
    "# there is only one event with a T, and two events in the sample space,\n",
    "# so 1 / 2 = 0.5\n",
    "\n",
    "# if one throws three times, there are 3 events with one T, and 8\n",
    "# events in the sample space, so 3 / 8.\n",
    "outcomes = (\"H\", \"T\")\n",
    "three_throws = list(make_sample_space(outcomes, 3))\n",
    "three_throws_with_one_tail = [x for x in three_throws if x.count(\"T\") == 1]\n",
    "print(\"EVENTS WITH ONE TAIL:\", [\"\".join(x) for x in three_throws_with_one_tail])\n",
    "print(\"SAMPLE SPACE:\", [\"\".join(x) for x in three_throws])\n",
    "print(\"PROBABILITY ONE TAIL:\", len(three_throws_with_one_tail) / len(list(three_throws)))"
   ]
  },
  {
   "cell_type": "code",
   "execution_count": 7,
   "metadata": {},
   "outputs": [],
   "source": [
    "# Example 2.3.2.\n",
    "# Suppose I have two bowls, each containing 100 balls numbered 1 through\n",
    "# 100. I pick a ball at random from each bowl and look at the numbers on\n",
    "# them. What is the probability that the numbers add up to 200?\n",
    "\n",
    "# There is only one outcome in the sample space in which both balls add\n",
    "# up to 200 (100, 100). The sample space is 100**2 = 10000, so the\n",
    "# probability is 1/10000"
   ]
  },
  {
   "cell_type": "code",
   "execution_count": 8,
   "metadata": {},
   "outputs": [],
   "source": [
    "# Example 2.3.3.\n",
    "# Let E be the event that the numbers on the balls in the previous example\n",
    "# add up to exactly 51. What is the probability of E?\n",
    "\n",
    "# (1, (num - 1)), (2, (num - 2)) ... ((num - 1), 1)\n",
    "# So in this case 1 through to 50 outcomes add to 51.\n",
    "# 50/10000"
   ]
  },
  {
   "cell_type": "code",
   "execution_count": 9,
   "metadata": {},
   "outputs": [
    {
     "name": "stdout",
     "output_type": "stream",
     "text": [
      "5040 / 10000\n",
      "0.504\n"
     ]
    }
   ],
   "source": [
    "# Example 2.3.4.\n",
    "# Suppose I choose a PIN containing exactly 4 digits, where each digit is\n",
    "# chosen at random and is equally likely to be any of the 10 digits 0-9.\n",
    "# What is the probability that my PIN contains four different digits?\n",
    "sample_space = list(make_sample_space(range(10), 4))\n",
    "all_diff_digits = [x for x in sample_space if len(set(x)) == 4]\n",
    "print(len(all_diff_digits), \"/\", len(sample_space))\n",
    "print(len(all_diff_digits) / len(sample_space))\n",
    "\n",
    "# or, as the text points out, for the four digits to be different one\n",
    "# can choose as the first digits 0-9, for the second 0-9 minus the\n",
    "# number selected as first digit, for the third 0-9 minus the digits\n",
    "# used for the first and second position, etc. So,\n",
    "#   10 * 9 * 8 * 7 = 5040"
   ]
  },
  {
   "cell_type": "code",
   "execution_count": 10,
   "metadata": {},
   "outputs": [],
   "source": [
    "# Example 2.3.5.\n",
    "# Suppose I have a bowl with 3 green balls (g), 2 blue balls (b), and\n",
    "# 1 red ball (r). I draw a single ball at random from the bowl and\n",
    "# report its color. What is the probability I got a blue ball?\n",
    "\n",
    "# sample space is ['g1', 'g2', 'g3', 'b1', 'b2', 'r']\n",
    "# so 2/6 = 1/3"
   ]
  },
  {
   "cell_type": "code",
   "execution_count": 11,
   "metadata": {},
   "outputs": [],
   "source": [
    "# Example 2.4.1.\n",
    "# I have a jar with four different colored balls and I choose one\n",
    "# at random. Is the distribution over the color I get uniform or not?\n",
    "\n",
    "# If each ball has 0.25 probability (uniform distribution), then yes."
   ]
  },
  {
   "cell_type": "code",
   "execution_count": 12,
   "metadata": {},
   "outputs": [
    {
     "name": "stdout",
     "output_type": "stream",
     "text": [
      "defaultdict(<class 'int'>, {2: 1, 3: 2, 4: 3, 5: 4, 6: 5, 7: 6, 8: 5, 9: 4, 10: 3, 11: 2, 12: 1})\n",
      "2 : 0.028\n",
      "3 : 0.056\n",
      "4 : 0.083\n",
      "5 : 0.111\n",
      "6 : 0.139\n",
      "7 : 0.167\n",
      "8 : 0.139\n",
      "9 : 0.111\n",
      "10 : 0.083\n",
      "11 : 0.056\n",
      "12 : 0.028\n"
     ]
    }
   ],
   "source": [
    "# Example 2.4.2.\n",
    "# What is the distribution over the sum of two fair dice?\n",
    "# Is it uniform or not?\n",
    "\n",
    "# No, you can get 2 o 12 with fewer combinations of outcomes,\n",
    "# (1, 1), (6, 2)\n",
    "# 6-8 sum can be made with many more outcomes, e.g. for six:\n",
    "# (1, 5), (2, 4), (3, 3), (4, 2), (5, 1)\n",
    "from collections import defaultdict\n",
    "\n",
    "sample_space = make_sample_space(range(1, 7), 2)\n",
    "sum_dict = defaultdict(int)\n",
    "for event in sample_space:\n",
    "    sum_dict[event[0] + event[1]] += 1\n",
    "print(sum_dict)\n",
    "\n",
    "# probability for sums of two die.\n",
    "for k_sum, v_freq in sum_dict.items():\n",
    "    print(k_sum, \":\", round(v_freq / sum(sum_dict.values()), 3))"
   ]
  },
  {
   "cell_type": "code",
   "execution_count": 13,
   "metadata": {},
   "outputs": [],
   "source": [
    "# Exercise 2.1\n",
    "# Suppose I have a dictionary with 5000 words in it, and I decide\n",
    "# to generate a 5-word “sentence” by choosing each word at random\n",
    "# from the dictionary (all words are equally likely).\n",
    "#    a) What is the size of the sample space in this experiment?\n",
    "#    b) If E is the event “my sentence starts with the word the”,\n",
    "#       how many outcomes are there in E?\n",
    "#    c) What is P(E)?\n",
    "#    d) Let A be the event “my sentence ends with the word the”.\n",
    "#       Are A and E mutually exclusive? If so, explain why. If\n",
    "#       not, give an example of an outcome that belongs to both\n",
    "#       A and E.\n",
    "\n",
    "# a) If the word can occur five times in a row, them 5000 ** 5.\n",
    "#    If a word only happens once in a sentence, then 5000 *\n",
    "#    4999 * 4998 * 4997 * 4996.\n",
    "# b) 5000 ** 4.\n",
    "# c) 5000 ** 4 / 5000 ** 5\n",
    "# d) No, both conditions can be met simultaneously, as long\n",
    "#    as a word can be used more than once in a sentence.\n",
    "#    See a). (the, the, the, the, the) is an outcome that\n",
    "#    belongs to both A and E."
   ]
  },
  {
   "cell_type": "code",
   "execution_count": 14,
   "metadata": {},
   "outputs": [],
   "source": [
    "# Exercise 2.2\n",
    "# Which of the following are possible probability distributions?\n",
    "# For each distribution, state whether it is uniform or not,\n",
    "# and whether the distribution includes a certain or impossible\n",
    "# event.\n",
    "#    a) (1.3, 2)\n",
    "#    b) (0.2, 0.2, 0.2, 0.2)\n",
    "#    c) (0.2, 0.2, 0.2, 0.2, -0.1, 0.3)\n",
    "#    d) (0.2, 0.2, 0.2, 0.2, 0.2)\n",
    "#    e) (0, 1, 0)\n",
    "#    f) (0)\n",
    "#    g) (1)\n",
    "#    h) (-.5, -.5)\n",
    "#    i) (1/2, 1/2)\n",
    "#    j) (1/2, 1/4)\n",
    "#    k) (1/8, 1/4, 5/8)\n",
    "#    l) (3/16, 1/8, 7/16)\n",
    "\n",
    "# Remember that there are two rules. P(Ei) must be between 0,\n",
    "# 1 or anything in between, and sum(E1, E2, .. En) = 1. So,\n",
    "# which are  possible probability distributions?\n",
    "#    d, e, f, g, i and k \n",
    "# Which are uniform?\n",
    "#    d and i\n",
    "# Which have certain or impossible events?\n",
    "#    e, f, g"
   ]
  },
  {
   "cell_type": "code",
   "execution_count": 15,
   "metadata": {},
   "outputs": [],
   "source": [
    "# Exercise 2.3\n",
    "# Write down the full distribution over the sum of two fair\n",
    "# dice. That is, complete the example we started at the end\n",
    "# of the last section (Example 2.4.2).\n",
    "\n",
    "# See Example 2.4.2 above for full distribution."
   ]
  },
  {
   "cell_type": "code",
   "execution_count": 16,
   "metadata": {},
   "outputs": [],
   "source": [
    "# Exercise 2.4\n",
    "# Suppose I have a bowl with 4 green balls (g), 2 blue balls\n",
    "# (b), and 3 red balls (r). I draw a single ball uniformly\n",
    "# at random from the bowl and report its color. What is the\n",
    "# probability distribution over the different colors?\n",
    "\n",
    "# [4/9, 2/9, 3/9] for green, blue and red respectively."
   ]
  },
  {
   "cell_type": "code",
   "execution_count": 17,
   "metadata": {},
   "outputs": [],
   "source": [
    "# Exercise 2.5\n",
    "# Suppose I have a bowl with 10 balls in it, all of which\n",
    "# are either blue, red, or green. I draw a single ball\n",
    "# uniformly at random and report its color. The number\n",
    "# of balls of each color is such that the probability\n",
    "# of getting a blue ball is 0.4 and the probability of\n",
    "# getting a green ball is 0.3. What is the probability\n",
    "# of getting a red ball? How many balls of each color are\n",
    "# there?\n",
    "\n",
    "# 0.4 * 10 = 4 blue balls, 0.3 * 10 = 3 green balls.\n",
    "# The probability of getting a red ball is 0.3, and\n",
    "# there are 3 red balls."
   ]
  },
  {
   "cell_type": "code",
   "execution_count": 18,
   "metadata": {},
   "outputs": [],
   "source": [
    "# Exercise 2.6\n",
    "# Suppose I have a spinner divided into 8 equal-sized sections,\n",
    "# colored as shown:\n",
    "#    (has 8 sections, 4 of them red, 3 of them yellow, and 1 blue)\n",
    "# Assume the arrow on the spinner is carefully balanced so it is\n",
    "# not more likely to end up in one place than another. I spin the\n",
    "# arrow and report the color of the section it ends up in. What\n",
    "# is the sample space of equally likely outcomes? What is the\n",
    "# probability of ending up in a red section?\n",
    "\n",
    "# What is the sample space of equally likely outcomes?\n",
    "#    The arrow landing in one of the sections.\n",
    "# What is the probability of ending up in a red section?\n",
    "#    4/8 = 0.5"
   ]
  },
  {
   "cell_type": "code",
   "execution_count": 19,
   "metadata": {},
   "outputs": [],
   "source": [
    "# Exercise 2.7\n",
    "# Suppose I replace the colored sections on the spinner in\n",
    "# the previous problem with just three sections: a red one\n",
    "# that covers 29% of the surface, a yellow one that covers\n",
    "# 62%, and a blue one that covers 9%:\n",
    "#   How can we use the tools of probability theory introduced\n",
    "# so far to compute the probability that, if we spin the arrow,\n",
    "# it will end up in the red section?\n",
    "\n",
    "# Think of the sample space as 1% sections of the board. The\n",
    "# probability for red is 29 percent sections divided by all\n",
    "# the sections (100).\n",
    "#   p(red) = 29/100 = 0.29\n",
    "#   p(yellow) = 62/100 = 0.62\n",
    "#   p(blue) = 9/100 = 0.09"
   ]
  },
  {
   "cell_type": "code",
   "execution_count": 20,
   "metadata": {},
   "outputs": [],
   "source": [
    "# Exercise 2.8\n",
    "# Suppose I have a group containing the following first-\n",
    "# and second-year university students from various countries.\n",
    "# The first 3 are male, and the last 4 female:\n",
    "#\n",
    "#    Name          Home country     Year\n",
    "#    Andrew        UK               1\n",
    "#    Sebastian     Germany          1\n",
    "#    Wei           China            1\n",
    "#    Fiona         UK               1\n",
    "#    Lea           Germany          2\n",
    "#    Ajitha        UK               1\n",
    "#    Sarah         UK               2 \n",
    "#\n",
    "# I choose a student uniformly at random from the group.\n",
    "# For each set of events given below, answer the following\n",
    "# questions:\n",
    "#\n",
    "#     (i) Are the events mutually exclusive?\n",
    "#    (ii) If so, do they cover all possible outcomes in the\n",
    "#         sample space?\n",
    "#   (iii) What is the probability of each event?\n",
    "#    (iv) Do these events and their probabilities, taken\n",
    "#         together, form a probability distribution?\n",
    "#\n",
    "#      a) E1 = the student is male,\n",
    "#         E2 = the student is\n",
    "#         female\n",
    "#      b) E1 = the student is from the UK,\n",
    "#         E2 = the student is from China\n",
    "#      c) E1 = the student’s name is Andrew or Sebastian,\n",
    "#         E2 = the student is from Germany\n",
    "#      d) E1 = the student is a first year student,\n",
    "#         E2 = the student is from Germany\n",
    "#      e) E1 = the student’s name starts with A,\n",
    "#         E2 = the student is from outside the UK,\n",
    "#         E3 = the student’s name is Fiona or Sarah\n",
    "\n",
    "# a)   i) yes\n",
    "#     ii) yes\n",
    "#    iii) 3/7, 4/7\n",
    "#     iv) yes\n",
    "# b)   i) yes\n",
    "#     ii) no\n",
    "#    iii) 4/7, 1/4\n",
    "#     iv) no\n",
    "# c)   i) no\n",
    "#     ii) no\n",
    "#    iii) 2/7, 2/7\n",
    "#     iv) no\n",
    "# d)   i) no\n",
    "#     ii) no\n",
    "#    iii) 5/7, 2/7\n",
    "#     iv) no\n",
    "# e)   i) yes\n",
    "#     ii) yes\n",
    "#    iii) 2/7, 3/7, 2/7\n",
    "#     iv) yes"
   ]
  }
 ],
 "metadata": {
  "kernelspec": {
   "display_name": "Python 3",
   "language": "python",
   "name": "python3"
  },
  "language_info": {
   "codemirror_mode": {
    "name": "ipython",
    "version": 3
   },
   "file_extension": ".py",
   "mimetype": "text/x-python",
   "name": "python",
   "nbconvert_exporter": "python",
   "pygments_lexer": "ipython3",
   "version": "3.5.2"
  }
 },
 "nbformat": 4,
 "nbformat_minor": 2
}
