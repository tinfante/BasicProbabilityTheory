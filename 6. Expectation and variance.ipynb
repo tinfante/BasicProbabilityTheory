{
 "cells": [
  {
   "cell_type": "code",
   "execution_count": 6,
   "metadata": {},
   "outputs": [
    {
     "name": "stdout",
     "output_type": "stream",
     "text": [
      "-0.02777777777777779\n",
      "-0.02777777777777779\n"
     ]
    }
   ],
   "source": [
    "# Example 6.1.1. Suppose I offer to play a game with you.\n",
    "# You roll two dice, and I’ll pay you £4 if you get a 6\n",
    "# or 11, but you pay me £1 otherwise. If we played this\n",
    "# game many times in a row, who would end up winning\n",
    "# more money? On average, how much would they win per\n",
    "# game?\n",
    "\n",
    "# Lets get the probabilities of winning £4 and losing £1.\n",
    "# The sample space is 6*6, and the outcomes for winning\n",
    "# £4 are (1,5), (2, 4), (3, 3), (4, 2), (5,1), (5, 6)\n",
    "# and (6, 5), so P(X=£4) = 7/36 and P(X=-£1) = 29/36.\n",
    "# My expected winning is 4 * 7/36 - 1 * 29/36.\n",
    "\n",
    "print( 4 * (7/36) - 1 * (29/36) )\n",
    "\n",
    "# I would probably lose 0.027£ each time we played.\n",
    "# The book goes on to explain the Expected Value or\n",
    "# Expectation for a Random Variable. That is, for\n",
    "# a random variable X, the expected value E[X] is\n",
    "# the sum of the product of the probability for\n",
    "# each value of x and the value of x. Obviously,\n",
    "# this would only apply to random variables that\n",
    "# can take a numeric value. The formula is:\n",
    "#\n",
    "#     E[X] = ∑ x * P(X=x)\n",
    "#\n",
    "# Bulding on the previous example E[X] would be:\n",
    "# (1, 1)        (1, 2)        (1, 3)\n",
    "# (-1 * 1/36) + (-1 * 1/36) + (-1 * 1/36) +\n",
    "#\n",
    "# (1, 4)        (1, 5)       (1, 6)\n",
    "# (-1 * 1/36) + (4 * 1/36) + (-1 * 1/36) +\n",
    "#\n",
    "# (2, 1)\n",
    "# ... etc\n",
    "#\n",
    "# Lets see:\n",
    "\n",
    "print( 7 * (4 * (1/36)) + 29 * (-1 * (1/36)) )\n",
    "\n",
    "# And if we run and experiment N times, we can\n",
    "# expect that the sum of the values of X to be\n",
    "# about N * E[X]."
   ]
  },
  {
   "cell_type": "code",
   "execution_count": 7,
   "metadata": {},
   "outputs": [],
   "source": [
    "# Example 6.1.2. A contestant on a game show wins $1000.\n",
    "# Then the host presents two boxes. In one box is a\n",
    "# label marked “double” and in the other “nothing”.\n",
    "# The contestant may, if she wishes, choose one of the\n",
    "# boxes without seeing their contents. If she chooses\n",
    "# the “double” box, she’ll get another $1000, but if she\n",
    "# chooses “nothing”, she’ll lose the $1000 she already\n",
    "# won. If X is the additional amount she gets by taking\n",
    "# the choice, what is E[X]? Should she choose a box, or\n",
    "# just keep the money she has?\n",
    "\n",
    "# Intuitively, the expected amount she gets back is 0.\n",
    "# She has 50% chance of either winning $1000 or losing\n",
    "# $1000. 0.5 * 1000 + 0.5 * -1000 = 0. More foremally,\n",
    "#     E[X] = ∑ x * P(X=x)\n",
    "# and there are two xs for X, 1000 and -1000, each with\n",
    "# 0.5 probability. So,\n",
    "#     E[X] = (1000 * 0.5) + (-1000 * 0.5) = 0"
   ]
  },
  {
   "cell_type": "code",
   "execution_count": 9,
   "metadata": {},
   "outputs": [
    {
     "name": "stdout",
     "output_type": "stream",
     "text": [
      "E[X] = 15.166666666666666\n"
     ]
    }
   ],
   "source": [
    "# Example 6.1.3. I offer to let you roll a single die,\n",
    "# and will give you a number of pounds equal to the\n",
    "# square of the number that comes up. How much would\n",
    "# you expect to win by playing this game?\n",
    "\n",
    "# E[X] = (1**2 * 1/6) + (2**2 * 1/6) + (3**2 * 1/6)\n",
    "#      + (4**2 * 1/6) + (5**2 * 1/6) + (6**2 * 1/6)\n",
    "# E[X] = (1 * 1/6)  + (4 * 1/6)  + (9 * 1/6)\n",
    "#      + (16 * 1/6) + (25 * 1/6) + (36 * 1/6)\n",
    "# E[X] = (1 + 4 + 9 + 16 + 25 + 36) * 1/6\n",
    "# E[X] = 91 * 1/6\n",
    "\n",
    "print(\"E[X] =\", (1 + 4 + 9 + 16 + 25 + 36) * 1/6)"
   ]
  },
  {
   "cell_type": "code",
   "execution_count": 3,
   "metadata": {},
   "outputs": [],
   "source": [
    "# Example 6.1.4. We’ve seen two different RVs with\n",
    "# expectations at or close to zero: the value of\n",
    "# your winnings in Example 6.1.1, and the value of\n",
    "# the contestant’s additional winnings in Example\n",
    "# 6.1.2 if she decides to choose a box. Intuitively,\n",
    "# which of these has higher variance? What are their\n",
    "# variances?\n",
    "\n",
    "# Intuitively, the case of example 6.1.2 has higher\n",
    "# variance, values can range between -1000 and +1000.\n",
    "# Values for the case in example 6.1.1 can range\n",
    "# between 4 and -1. Two formulas for variance\n",
    "# were just given above. I didn't get the formula\n",
    "# explanation so I don't know how to apply them to\n",
    "# actual numbers. The text uses the second one\n",
    "# (equation 42) as follows, D being the winnings\n",
    "# for the dice game (example 6.1.1) and G for\n",
    "# the game show (6.1.2).\n",
    "#\n",
    "#    Var[X] = E[X²] − (E[X])²\n",
    "#\n",
    "#    Var[D] = 4² * (7/36) + 1² * (29/36) - (1/36)²\n",
    "#    Var[D] = 3.92\n",
    "#\n",
    "#    Var[G] = 1000² * (1/2) + (-1000)² * (1/2) - 0²\n",
    "#    Var[G] = 1000000"
   ]
  },
  {
   "cell_type": "code",
   "execution_count": null,
   "metadata": {},
   "outputs": [],
   "source": [
    "# Example 6.1.5. Compute the standard deviations of\n",
    "# the D and G variables from Example 6.1.4.\n",
    "\n",
    "# That's just the square root of the variance, or\n",
    "# the square root of 3.92 and 1000000 respectively."
   ]
  }
 ],
 "metadata": {
  "kernelspec": {
   "display_name": "Python 3",
   "language": "python",
   "name": "python3"
  },
  "language_info": {
   "codemirror_mode": {
    "name": "ipython",
    "version": 3
   },
   "file_extension": ".py",
   "mimetype": "text/x-python",
   "name": "python",
   "nbconvert_exporter": "python",
   "pygments_lexer": "ipython3",
   "version": "3.5.2"
  }
 },
 "nbformat": 4,
 "nbformat_minor": 2
}
