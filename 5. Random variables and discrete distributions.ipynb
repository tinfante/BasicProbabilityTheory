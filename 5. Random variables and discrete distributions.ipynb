{
 "cells": [
  {
   "cell_type": "code",
   "execution_count": 1,
   "metadata": {},
   "outputs": [],
   "source": [
    "# Example 5.1.1.\n",
    "# Define a random variable X to represent the outcome flipping a\n",
    "# fair coin, where this variable can take on two possible values\n",
    "# (h or t) representing heads or tails. What is the distribution\n",
    "# over X?\n",
    "\n",
    "# \"A RANDOM VARIABLE (or RV) is a variable that represents all\n",
    "# the possible events in some RANDOM VARIABLE partition of the\n",
    "# sample space.\" So p(X) => p(h) = 0.5 and p(t) = 0.5.\n",
    "#\n",
    "# The important point is that P(X) isn't a probabibility like\n",
    "# P(h) o P(t), but a distribution, therefore all values of P(X)\n",
    "# should add up to 1."
   ]
  },
  {
   "cell_type": "code",
   "execution_count": 2,
   "metadata": {},
   "outputs": [],
   "source": [
    "# Example 5.1.2.\n",
    "# Suppose I roll a fair six-sided die, with one face colored red,\n",
    "# two colored blue, and three colored green. Let X be the color\n",
    "# I get when I roll. What is P(X)?\n",
    "\n",
    "# P(X) => P(r) = 1/6, P(b) = 2/6 and P(g) = 3/6"
   ]
  },
  {
   "cell_type": "code",
   "execution_count": null,
   "metadata": {},
   "outputs": [],
   "source": []
  }
 ],
 "metadata": {
  "kernelspec": {
   "display_name": "Python 3",
   "language": "python",
   "name": "python3"
  },
  "language_info": {
   "codemirror_mode": {
    "name": "ipython",
    "version": 3
   },
   "file_extension": ".py",
   "mimetype": "text/x-python",
   "name": "python",
   "nbconvert_exporter": "python",
   "pygments_lexer": "ipython3",
   "version": "3.5.2"
  }
 },
 "nbformat": 4,
 "nbformat_minor": 2
}
