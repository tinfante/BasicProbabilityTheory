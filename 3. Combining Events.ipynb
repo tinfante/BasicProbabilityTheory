{
 "cells": [
  {
   "cell_type": "code",
   "execution_count": 1,
   "metadata": {},
   "outputs": [],
   "source": [
    "# Example 3.1.1.\n",
    "# Suppose I have a list of words, and I choose a word uniformly\n",
    "# at random. If the probability of getting a word starting with\n",
    "# t is 1/7, then what is the probability of getting a word that\n",
    "# does not start with t?\n",
    "\n",
    "# P(word starts with t) = 1/7 = 0.14\n",
    "# P(¬word starts with t) = 6/7 = 0.86 = 1 - 0.14"
   ]
  },
  {
   "cell_type": "code",
   "execution_count": 2,
   "metadata": {},
   "outputs": [],
   "source": [
    "# Example 3.1.2.\n",
    "# Since events are just sets of outcomes, taking their union\n",
    "# corresponds to considering any outcome that belongs to either\n",
    "# A or B. For example, looking at the scenario from Exercise 2.8,\n",
    "# let’s define A = “the student is female” and B = “the student\n",
    "# is from the UK”. What is P(A ∪ B), that is, the probability\n",
    "# that the student is female or from the UK?\n",
    "\n",
    "#    Name          Home country     Year\n",
    "#    Andrew        UK               1\n",
    "#    Sebastian     Germany          1\n",
    "#    Wei           China            1\n",
    "#    Fiona         UK               1\n",
    "#    Lea           Germany          2\n",
    "#    Ajitha        UK               1\n",
    "#    Sarah         UK               2 \n",
    "\n",
    "# Lets count the number of students that are either female or \n",
    "# from the UK. Andrew is from the UK, and the last 4 are all\n",
    "# female. Only 3 females are from the UK, but it doesn't\n",
    "# matter because they already satisfied the female condition.\n",
    "# So 5/7.\n",
    "\n",
    "# As the book explains, this is the same as:\n",
    "# P(A∪B) = P(A) + P(B) - P(A∩B) = 4/7 + 4/7 - 3/7 = 5/7"
   ]
  },
  {
   "cell_type": "code",
   "execution_count": 3,
   "metadata": {},
   "outputs": [],
   "source": [
    "# Example 3.2.1.\n",
    "# Consider the scenario from Exercise 2.8 (above). We partition\n",
    "# the sample space according to the country that each student\n",
    "# comes from, with E1 = “student is British”, E2 = “student is\n",
    "# Chinese”, and E3 = “student is German”. Also let B be the\n",
    "# event that the student is female. Apply the law of total\n",
    "# probability to compute P(B), and check that the result is the\n",
    "# same as when computing P(B) directly.\n",
    "\n",
    "# P(E1∩B) + P(E2∩B) + P(E3∩B) = 3/7 + 0/7 + 1/7 = 4/7"
   ]
  },
  {
   "cell_type": "code",
   "execution_count": 4,
   "metadata": {},
   "outputs": [],
   "source": [
    "# Exercise 3.1\n",
    "# I have a list of two-character codes, and I choose one\n",
    "# uniformly at random. Suppose the probability that the\n",
    "# chosen code starts with s is .02, and the probability\n",
    "# that it ends with s is .03. Also, the probability of\n",
    "# the code ss is .01.\n",
    "#\n",
    "# a) What is the probability that I get a code that\n",
    "#    contains at least one s?\n",
    "# b) What is the probability that I get a code that\n",
    "#    doesn’t contain an s?\n",
    "\n",
    "# a) This is the same case as example 3.1.2, either\n",
    "# starts with s or ends with s, so the union of\n",
    "# starts with s and ends with s.\n",
    "#   P(A∪B) = P(A) + P(B) - P(A∩B), so\n",
    "# 0.02 + 0.03 - 0.01 = 0.04\n",
    "#\n",
    "# b) See example 3.1.1, so, using result from\n",
    "# previous answer,\n",
    "#   ¬(starts or ends with s) = 1 - 0.04 = 0.96"
   ]
  },
  {
   "cell_type": "code",
   "execution_count": 5,
   "metadata": {},
   "outputs": [],
   "source": [
    "# Exercise 3.2\n",
    "# I have a set of balls in a jar, and I choose a ball\n",
    "# uniformly at random. Each ball is either black (b)\n",
    "# or white (w), and has a number on it between 1 and 4.\n",
    "# Listed below are some of the joint probabilities\n",
    "# for this experiment.\n",
    "#     P(w, 1) = 1/16\n",
    "#     P(b, 1) = 1/8\n",
    "#     P(w, 2) = 1/16\n",
    "#     P(w, 3) = 1/8\n",
    "#     P(w, 4) = 1/4\n",
    "# a) What is the probability of getting a 1 of any color?\n",
    "# b) What is the probability of getting a white ball?\n",
    "# c) What is the probability of getting a black ball?\n",
    "# d) What is the probability of getting either a black\n",
    "#    ball or a ball numbered 1?\n",
    "\n",
    "# ??? How can balls be chosen uniformly at random and\n",
    "# have different probabilities? Doesn't uniformly at\n",
    "# random mean that every item in the sample space (the\n",
    "# dot product of [B,W] and [1,2,3,4]) has the same\n",
    "# probability (1/8 in this case)? Anyway, lets just\n",
    "# apply the rules.\n",
    "\n",
    "# a) Joint probability distribution.\n",
    "# P(X) = ∑P(X∩Ei)\n",
    "# P(1) = 1/16 + 1/8 = 3/16\n",
    "#\n",
    "# b) Joint probability distribution.\n",
    "# P(W) = P(W,1) + P(W,2) + P(W,3) + P(W,4)\n",
    "# P(W) = 1/16 + 1/16 + 2/16 + 4/16\n",
    "# P(W) = 8/16 = 1/2\n",
    "#\n",
    "# c) Complement.\n",
    "# P(B) = 1 - P(W) = 1 - 1/2 = 1/2\n",
    "#\n",
    "# d) Set union.\n",
    "# P(A∪B) = P(A) + P(B) - P(A∩B)\n",
    "# P(B∪1) = P(B) + P(1) - P(B∩1)\n",
    "# P(B∪1) = 1/2 + 3/16 - 1/8\n",
    "# P(B∪1) = 8/16 + 3/16 - 2/16 = 9/16"
   ]
  },
  {
   "cell_type": "code",
   "execution_count": 6,
   "metadata": {},
   "outputs": [
    {
     "name": "stdout",
     "output_type": "stream",
     "text": [
      "0.4634\n",
      "0.4634\n"
     ]
    }
   ],
   "source": [
    "# Exercise 3.3\n",
    "# Suppose I generate a 6-character password, where each\n",
    "# character is chosen uniformly at random from of the 26\n",
    "# lowercase letters of English. What is the probability\n",
    "# that my password contains at least one repeated character,\n",
    "# i.e., there is at least one character that occurs more\n",
    "# than once somewhere in the password? (Hint: extend the\n",
    "# solution to Example 2.3.4 to solve this problem.)\n",
    "\n",
    "# I'll get the probability of all characters being\n",
    "# different and I'll calculate the complement. So, all\n",
    "# different characters is 26 * 25 * 24 * 23 * 22 * 21,\n",
    "# and the sample space is 26 ** 6.\n",
    "print('%.4f' % (1 - ((26*25*24*23*22*21) / (26**6))))\n",
    "\n",
    "# Lets test this.\n",
    "import itertools\n",
    "\n",
    "sample_space = itertools.product(range(26), repeat=6)\n",
    "\n",
    "all_count = 0\n",
    "rep_count = 0\n",
    "for e in sample_space:\n",
    "    if len(set(e)) < 6:\n",
    "        rep_count += 1\n",
    "    all_count += 1\n",
    "\n",
    "print('%.4f' % (rep_count/all_count))"
   ]
  }
 ],
 "metadata": {
  "kernelspec": {
   "display_name": "Python 3",
   "language": "python",
   "name": "python3"
  },
  "language_info": {
   "codemirror_mode": {
    "name": "ipython",
    "version": 3
   },
   "file_extension": ".py",
   "mimetype": "text/x-python",
   "name": "python",
   "nbconvert_exporter": "python",
   "pygments_lexer": "ipython3",
   "version": "3.5.2"
  }
 },
 "nbformat": 4,
 "nbformat_minor": 2
}
